{
 "cells": [
  {
   "cell_type": "markdown",
   "metadata": {},
   "source": [
    "## Problems 10-4, 10-5"
   ]
  },
  {
   "cell_type": "markdown",
   "metadata": {},
   "source": [
    "### P10-4\n",
    "Consider the catalytic reaction as a function of the initial partial pressures."
   ]
  },
  {
   "cell_type": "markdown",
   "metadata": {},
   "source": [
    "$$ 2A \\rightleftarrows B + C $$"
   ]
  },
  {
   "cell_type": "markdown",
   "metadata": {},
   "source": [
    "The rate of disappearance of species A was obtained in a differntial reactor and is shown below."
   ]
  },
  {
   "cell_type": "markdown",
   "metadata": {},
   "source": [
    "1. What species are on the surface? \n",
    "2. What does figure B tell you about the reversability and what's adsorbed on the surface?\n",
    "3. Derive the rate law and suggest a rate-limiting step consisten with the above figures.\n",
    "4. How would you plot your data to linearize the initial rate data in Figure A?\n",
    "5. Assuming pure A is fed, and the adsorption constants for A and C are $K_A$ = 0.5 atm$^{-1}$ and $K_C$ = 0.25 atm$^{-1}$ respectively, at what conversion are the number of sites with A adsorbed on the surface and C adsorbed on the surface equal? (Ans.: X = 0.66)"
   ]
  },
  {
   "cell_type": "markdown",
   "metadata": {},
   "source": [
    "THe species on the surface will be B since the rate of the reaction deos not change.\n",
    "\n",
    "That the reaction rate of the B wont change and the reaction is held to the reaction rate of B.  "
   ]
  },
  {
   "cell_type": "markdown",
   "metadata": {},
   "source": [
    "### P10-5\n",
    "The rate law for the hydrogenation (H) of ethyene (E) to form ethane (A) over a cobalt-molybdenum catalyst is:\n",
    "$$ -r'_E = \\frac{k P_E P_H}{1 + K_E P_E} $$\n",
    "1. Sugesst a mechanism and rate-limiting step consitent with the above rate law.\n",
    "2. What was the most difficult part in finding the mechanism?"
   ]
  },
  {
   "cell_type": "markdown",
   "metadata": {},
   "source": [
    "##### (A)\n",
    "$$ -r'_E = \\frac{k P_E P_H}{K_E P_H} = \\frac{k}{K_E} P_H $$\n",
    "Polyethylene is at the surface\n",
    "$$E + S \\rightleftarrows E \\cdot S $$\n",
    "$$ E \\cdot S + H \\rightarrow A $$"
   ]
  },
  {
   "cell_type": "markdown",
   "metadata": {},
   "source": [
    "##### (B)\n",
    "  The most difficult part in finding the mechanism was the conclusion that the product ethane is not adsorbed on the surface.  This is because the term for partial pressure of ethane is missing in the rate law expression."
   ]
  },
  {
   "cell_type": "code",
   "execution_count": null,
   "metadata": {},
   "outputs": [],
   "source": []
  }
 ],
 "metadata": {
  "kernelspec": {
   "display_name": "Python 3",
   "language": "python",
   "name": "python3"
  },
  "language_info": {
   "codemirror_mode": {
    "name": "ipython",
    "version": 3
   },
   "file_extension": ".py",
   "mimetype": "text/x-python",
   "name": "python",
   "nbconvert_exporter": "python",
   "pygments_lexer": "ipython3",
   "version": "3.6.6"
  }
 },
 "nbformat": 4,
 "nbformat_minor": 2
}
