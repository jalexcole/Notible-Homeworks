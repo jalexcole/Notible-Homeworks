{
 "cells": [
  {
   "cell_type": "markdown",
   "metadata": {},
   "source": [
    "The reaction\n",
    "$$ A \\rightarrow B + C $$\n",
    "was carried out in a constant-volume batch reactor where the folowing concentration measurements were recorded as a function of time"
   ]
  },
  {
   "cell_type": "markdown",
   "metadata": {},
   "source": [
    "|      |\n",
    "|------|-----|----|-----|------|----|\n",
    "|t (min)| 0 | 5 | 9 | 15 | 22 | 30| 40 | 60|\n",
    "|$C_A$ mol/dm$^3$| 2 | 1.6 | 1.35 | 1.1 | 0.87 | 0.70 | 0.53 | 0.35 |"
   ]
  },
  {
   "cell_type": "markdown",
   "metadata": {},
   "source": [
    "1. use nonlinear lease squares (i.e., regression) and one other method to determine the reaction order, $\\alpha$, and the specific rection rate, *k*.\n",
    "2. Nicolas Bellini wants to know, if you were to take more data, where would you place the points? Why?"
   ]
  },
  {
   "cell_type": "code",
   "execution_count": 46,
   "metadata": {},
   "outputs": [],
   "source": [
    "import numpy as np\n",
    "import matplotlib.pyplot as plt\n",
    "from IPython.core.interactiveshell import InteractiveShell\n",
    "InteractiveShell.ast_node_interactivity = \"all\""
   ]
  },
  {
   "cell_type": "code",
   "execution_count": 49,
   "metadata": {},
   "outputs": [
    {
     "data": {
      "text/plain": [
       "[<matplotlib.lines.Line2D at 0x107938780>]"
      ]
     },
     "execution_count": 49,
     "metadata": {},
     "output_type": "execute_result"
    },
    {
     "data": {
      "image/png": "[encoded data removed]",
      "text/plain": [
       "<Figure size 432x288 with 1 Axes>"
      ]
     },
     "metadata": {},
     "output_type": "display_data"
    }
   ],
   "source": [
    "t = [0, 5, 9, 15, 22, 30, 40, 60]\n",
    "C_A = [2, 1.6, 1.35, 1.1, 0.87, 0.70, 0.53, 0.35]\n",
    "\n",
    "plt.plot(t, C_A)\n"
   ]
  },
  {
   "cell_type": "markdown",
   "metadata": {},
   "source": [
    "Find $dC_A / dt$"
   ]
  },
  {
   "cell_type": "code",
   "execution_count": 48,
   "metadata": {},
   "outputs": [
    {
     "name": "stdout",
     "output_type": "stream",
     "text": [
      "           2\n",
      "0.0005425 x - 0.05782 x + 1.902\n",
      " \n",
      "-0.001085 x + 0.05782\n"
     ]
    }
   ],
   "source": [
    "dC_Adt_negative = -1 * np.poly1d(np.polyder(np.polyfit(t, C_A, 2)))\n",
    "C_A_formula = np.poly1d(np.polyfit(t,C_A,2))\n",
    "\n",
    "print(C_A_formula)\n",
    "print(dC_Adt_negative)\n",
    "\n",
    "# k = np.polyder(np.polyfit(np.log(C_A_formula(t)), np.log(dC_Adt(t)), 1))# problems are happening here\n",
    "#print(k)\n"
   ]
  },
  {
   "cell_type": "markdown",
   "metadata": {},
   "source": [
    "Write out what the procedure for non linear least squares"
   ]
  },
  {
   "cell_type": "markdown",
   "metadata": {},
   "source": [
    "$$ t = \\frac{1}{k} \\bigg(\\frac{2^{(1-\\alpha)} - C_A^{(1-\\alpha)}}{1-\\alpha} \\bigg) $$"
   ]
  },
  {
   "cell_type": "markdown",
   "metadata": {},
   "source": [
    "Using graphical method $\\alpha$ is = 1.5"
   ]
  },
  {
   "cell_type": "markdown",
   "metadata": {},
   "source": [
    "$$k = \\frac{1}{3}$$"
   ]
  },
  {
   "cell_type": "markdown",
   "metadata": {},
   "source": [
    "For the graphical method I plotted each C_A, t condition against alpha and k and looked at where they intersected."
   ]
  },
  {
   "cell_type": "code",
   "execution_count": null,
   "metadata": {},
   "outputs": [],
   "source": []
  }
 ],
 "metadata": {
  "kernelspec": {
   "display_name": "Python 3",
   "language": "python",
   "name": "python3"
  },
  "language_info": {
   "codemirror_mode": {
    "name": "ipython",
    "version": 3
   },
   "file_extension": ".py",
   "mimetype": "text/x-python",
   "name": "python",
   "nbconvert_exporter": "python",
   "pygments_lexer": "ipython3",
   "version": "3.6.5"
  }
 },
 "nbformat": 4,
 "nbformat_minor": 2
}
