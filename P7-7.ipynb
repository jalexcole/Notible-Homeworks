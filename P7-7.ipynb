{
 "cells": [
  {
   "cell_type": "markdown",
   "metadata": {},
   "source": [
    "The following date were reported for a gas-phase constant-volume decomposition of dimethyl-ether at 504˚C in a *batch-reactor*. Initially, only (CH$_3$)$_2$O was present."
   ]
  },
  {
   "cell_type": "markdown",
   "metadata": {},
   "source": [
    "|Time (s)| 390| 777| 1195| 3155 | infintite |\n",
    "|:--------|----|----|-----|------|--------|\n",
    "|Total Pressure (mmHg)| 408 | 488 | 562| 799 | 931|"
   ]
  },
  {
   "cell_type": "markdown",
   "metadata": {},
   "source": [
    "Why do you thing the total pressure measurement at t = 0 is missing? Can you estimate it?"
   ]
  },
  {
   "cell_type": "code",
   "execution_count": 1,
   "metadata": {},
   "outputs": [],
   "source": [
    "import numpy as np\n",
    "import matplotlib.pyplot as plt"
   ]
  },
  {
   "cell_type": "code",
   "execution_count": 2,
   "metadata": {},
   "outputs": [
    {
     "data": {
      "image/png": "[encoded data removed]",
      "text/plain": [
       "<Figure size 432x288 with 1 Axes>"
      ]
     },
     "metadata": {},
     "output_type": "display_data"
    }
   ],
   "source": [
    "t = np.array([390, 777, 1195, 3155,1e7]) # using 1e7(s) as infinite time\n",
    "p = np.array([408, 488, 562, 799,931])\n",
    "\n",
    "plt.plot(t, p) # a plot of t vs p\n",
    "plt.xlabel(\"time (s)\")\n",
    "plt.ylabel(\"Pressure (mmHg)\")\n",
    "plt.show()"
   ]
  },
  {
   "cell_type": "code",
   "execution_count": 3,
   "metadata": {},
   "outputs": [
    {
     "name": "stdout",
     "output_type": "stream",
     "text": [
      "r squared for curve fit of pressure: 0.000\n",
      "Preasure at t = 0 is 314.47 mmHg\n"
     ]
    }
   ],
   "source": [
    "P_A = np.poly1d(np.polyfit(t,p,4))\n",
    "dp_dt = np. poly1d(np.polyder(np.polyfit(t, p, 4)))\n",
    "r_squared = np.sum((P_A(t) - p) ** 2)\n",
    "\n",
    "print(\"r squared for curve fit of pressure:\", \"{:.3f}\".format(r_squared))\n",
    "print(\"Preasure at t = 0 is \" + \"{:.2f}\".format(P_A(0)),\"mmHg\")"
   ]
  },
  {
   "cell_type": "markdown",
   "metadata": {},
   "source": [
    "I am unsure to why the pressure is left off. The pressure can be estimated at t = 0 to p = 315 mmHg."
   ]
  },
  {
   "cell_type": "markdown",
   "metadata": {},
   "source": [
    "Assume that the reaction:\n",
    "$$ (CH_3)_2O \\rightarrow CH_4 + H_2 + CO $$\n",
    "is irreversable and goes virtually to completion, determine the reaction order and specific reaction *k*. (Ans.: *k* = 0.00048 min$^{-1}$)"
   ]
  },
  {
   "cell_type": "markdown",
   "metadata": {},
   "source": [
    "Can not solve with the differential method"
   ]
  },
  {
   "cell_type": "markdown",
   "metadata": {},
   "source": [
    "Solve with nonlinear regression\n",
    "$$ t = \\frac{1}{k} \\frac{P_{A0}^{(1-\\alpha)}-P_A^{1-\\alpha}}{1 - \\alpha}$$"
   ]
  },
  {
   "cell_type": "markdown",
   "metadata": {},
   "source": [
    "To solve with linear regression I am taking this equation and cunstructing a 2d array for the field (k, $\\alpha$). I am then going to look for the points where $\\alpha$ has the lowest standard deviation among the points and should be able to solve for k when I take the average of $\\alpha$ at the lowest standard deviation."
   ]
  },
  {
   "cell_type": "code",
   "execution_count": 57,
   "metadata": {},
   "outputs": [
    {
     "ename": "ValueError",
     "evalue": "operands could not be broadcast together with shapes (0,) (1,99) ",
     "output_type": "error",
     "traceback": [
      "\u001b[0;31m---------------------------------------------------------------------------\u001b[0m",
      "\u001b[0;31mValueError\u001b[0m                                Traceback (most recent call last)",
      "\u001b[0;32m<ipython-input-57-798a2c607158>\u001b[0m in \u001b[0;36m<module>\u001b[0;34m()\u001b[0m\n\u001b[1;32m      3\u001b[0m \u001b[0mk\u001b[0m \u001b[0;34m=\u001b[0m \u001b[0mnp\u001b[0m\u001b[0;34m.\u001b[0m\u001b[0marray\u001b[0m\u001b[0;34m(\u001b[0m\u001b[0;34m[\u001b[0m\u001b[0;34m]\u001b[0m\u001b[0;34m)\u001b[0m\u001b[0;34m\u001b[0m\u001b[0m\n\u001b[1;32m      4\u001b[0m \u001b[0;32mfor\u001b[0m \u001b[0mi\u001b[0m \u001b[0;32min\u001b[0m \u001b[0mtime\u001b[0m\u001b[0;34m:\u001b[0m\u001b[0;34m\u001b[0m\u001b[0m\n\u001b[0;32m----> 5\u001b[0;31m     \u001b[0mk\u001b[0m \u001b[0;34m=\u001b[0m \u001b[0mk\u001b[0m \u001b[0;34m+\u001b[0m  \u001b[0;34m[\u001b[0m\u001b[0;36m1\u001b[0m \u001b[0;34m/\u001b[0m \u001b[0mi\u001b[0m \u001b[0;34m*\u001b[0m \u001b[0;34m(\u001b[0m\u001b[0mP_A\u001b[0m\u001b[0;34m(\u001b[0m\u001b[0mt\u001b[0m\u001b[0;34m[\u001b[0m\u001b[0;36m0\u001b[0m\u001b[0;34m]\u001b[0m\u001b[0;34m)\u001b[0m \u001b[0;34m**\u001b[0m \u001b[0;34m(\u001b[0m\u001b[0;36m1\u001b[0m \u001b[0;34m-\u001b[0m \u001b[0malpha\u001b[0m\u001b[0;34m)\u001b[0m \u001b[0;34m-\u001b[0m \u001b[0mP_A\u001b[0m\u001b[0;34m(\u001b[0m\u001b[0mi\u001b[0m\u001b[0;34m)\u001b[0m \u001b[0;34m**\u001b[0m \u001b[0;34m(\u001b[0m\u001b[0;36m1\u001b[0m \u001b[0;34m-\u001b[0m \u001b[0malpha\u001b[0m\u001b[0;34m)\u001b[0m\u001b[0;34m)\u001b[0m \u001b[0;34m/\u001b[0m \u001b[0;34m(\u001b[0m\u001b[0;36m1\u001b[0m \u001b[0;34m-\u001b[0m \u001b[0malpha\u001b[0m\u001b[0;34m)\u001b[0m\u001b[0;34m]\u001b[0m\u001b[0;34m\u001b[0m\u001b[0m\n\u001b[0m",
      "\u001b[0;31mValueError\u001b[0m: operands could not be broadcast together with shapes (0,) (1,99) "
     ]
    }
   ],
   "source": [
    "time = np.linspace(t[0],t[-2],100)\n",
    "alpha = np.linspace(0,10,99)\n",
    "k = np.array([])\n",
    "for i in time:\n",
    "    k = k +  [1 / i * (P_A(t[0]) ** (1 - alpha) - P_A(i) ** (1 - alpha)) / (1 - alpha)]"
   ]
  },
  {
   "cell_type": "code",
   "execution_count": 56,
   "metadata": {},
   "outputs": [
    {
     "name": "stdout",
     "output_type": "stream",
     "text": [
      "[array([-1.23930220e-01, -6.46128288e-02, -3.36998097e-02, -1.75834442e-02,\n",
      "       -9.17801629e-03, -4.79250502e-03, -2.50348863e-03, -1.30827278e-03,\n",
      "       -6.83944546e-04, -3.57695567e-04, -1.87144218e-04, -9.79511365e-05,\n",
      "       -5.12876383e-05, -2.68649442e-05, -1.40776119e-05, -7.37974818e-06,\n",
      "       -3.87010933e-06, -2.03036263e-06, -1.06559493e-06, -5.59471846e-07,\n",
      "       -2.93853729e-07, -1.54401069e-07, -8.11586303e-08, -4.26759828e-08,\n",
      "       -2.24489387e-08, -1.18132810e-08, -6.21880022e-09, -3.27493646e-09,\n",
      "       -1.72527427e-09, -9.09224539e-10, -4.79336572e-10, -2.52792992e-10,\n",
      "       -1.33365386e-10, -7.03839092e-11, -3.71581687e-11, -1.96238551e-11,\n",
      "       -1.03672096e-11, -5.47879846e-12, -2.89636317e-12, -1.53166316e-12,\n",
      "       -8.10241267e-13, -4.28750419e-13, -2.26950999e-13, -1.20169763e-13,\n",
      "       -6.36490718e-14, -3.37225879e-14, -1.78722751e-14, -9.47473511e-15,\n",
      "       -5.02436009e-15, -2.66513390e-15, -1.41409976e-15, -7.50519453e-16,\n",
      "       -3.98439961e-16, -2.11583113e-16, -1.12386578e-16, -5.97119673e-17,\n",
      "       -3.17336453e-17, -1.68689625e-17, -8.96942890e-18, -4.77031891e-18,\n",
      "       -2.53766594e-18, -1.35028089e-18, -7.18645426e-19, -3.82564211e-19,\n",
      "       -2.03700179e-19, -1.08486119e-19, -5.77897658e-20, -3.07907326e-20,\n",
      "       -1.64089121e-20, -8.74638525e-21, -4.66299401e-21, -2.48649143e-21,\n",
      "       -1.32615219e-21, -7.07428447e-22, -3.77444331e-22, -2.01420207e-22,\n",
      "       -1.07505687e-22, -5.73900588e-23, -3.06420139e-23, -1.63633398e-23,\n",
      "       -8.73975443e-24, -4.66871966e-24, -2.49440131e-24, -1.33291825e-24,\n",
      "       -7.12374050e-25, -3.80784093e-25, -2.03570296e-25, -1.08846311e-25,\n",
      "       -5.82070433e-26, -3.11314048e-26, -1.66526027e-26, -8.90891117e-27,\n",
      "       -4.76678050e-27, -2.55083653e-27, -1.36519913e-27, -7.30742308e-28,\n",
      "       -3.91188766e-28, -2.09440847e-28, -1.12147171e-28])]\n"
     ]
    }
   ],
   "source": [
    "print(k)\n",
    "\n",
    "\n",
    "\n"
   ]
  },
  {
   "cell_type": "code",
   "execution_count": null,
   "metadata": {},
   "outputs": [],
   "source": []
  }
 ],
 "metadata": {
  "kernelspec": {
   "display_name": "Python 3",
   "language": "python",
   "name": "python3"
  },
  "language_info": {
   "codemirror_mode": {
    "name": "ipython",
    "version": 3
   },
   "file_extension": ".py",
   "mimetype": "text/x-python",
   "name": "python",
   "nbconvert_exporter": "python",
   "pygments_lexer": "ipython3",
   "version": "3.6.5"
  }
 },
 "nbformat": 4,
 "nbformat_minor": 2
}
