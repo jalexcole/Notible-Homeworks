{
 "cells": [
  {
   "cell_type": "markdown",
   "metadata": {},
   "source": [
    "### Alex Cole\n",
    "### Febuary 20, 2020\n",
    "### Chemical Engineering Process Controls\n",
    "### Chen Zhang\n",
    "### Take Home Portion Exam 1\n",
    "\n",
    "\n",
    "Develop a macroscopic model of a steam heated heat exchanger using an actuator/process/sensor\n",
    "modeling approach. The output variable is the outlet temperature of the process fluid and the\n",
    "input variable is the specified steam pressure. For a macroscopic model of a heat exchanger, the\n",
    "metal of the heat exchanger is at one temperature and the temperature of the process stream used\n",
    "for heat-transfer calculations is the average between the inlet temperature and the exit\n",
    "temperature for the heat exchanger, i.e., the heat-transfer rate from the metal to the Steam\n",
    "process fluid and the heat transfer rate from the steam to the metal are given by:\n",
    "$$ Q = U A (\\bar{T}_m - \\bar T) $$ \n",
    "$$ Q_{stm} = U_{stm} A (\\bar{T}_{stm} - \\bar{T}_m) $$\n",
    "respectively, where U is the overall, heat-transfer coefficient between the stream and the metal tubes (500W/m2-K), A is the surface area for heat transfer (100 m2). 𝑇 is the average temperature for the process fluid inside the heat exchanger, 𝑇 is the average temperature for the 𝑚 metal tubes in the heat exchanger, 𝑇 is the steam temperature and 𝑈 is the heat-transfer 𝑠𝑡𝑚 𝑠𝑡𝑚 coefficient between the steam and the metal tubes (2000 W/m2-K). The result for the heat-transfer rate can be used to calculate the outlet temperature of the process fluid. Assume that the steam is saturated so that the steam pressure controller sets the steam temperature. Assume pressure controller on the steam has a time constant of 10 seconds time constant and the outlet temperature sensor for the process fluid has a time constant of 6 seconds."
   ]
  },
  {
   "cell_type": "markdown",
   "metadata": {},
   "source": [
    "The feed flow rate of the process fluid is 25 kg/s, feed temperature of the process fluid is 25°C,\n",
    "the heat capacity of the fluid is 4.18 kJ/kg-°C, the heat capacity of copper is 0.385 kJ/kg-°C and\n",
    "the mass of copper in the tubes used in the exchanger is 200 kg. Initially, the heat exchanger is\n",
    "filled with cold water at 25°C when the steam is added to the heat exchanger with a pressure\n",
    "setpoint of 300 kPa. Assume that the initial pressure of steam in the heat exchange is 50 kPA.\n",
    "Use the following equation that relation the steam temperature in °C to the steam pressure in\n",
    "kPa:\n",
    "$$ T_{stm} = \\frac{1810.95}{8.14018-\\log_{10}(7.5025 P_{stm})} - 244.485$$"
   ]
  },
  {
   "cell_type": "markdown",
   "metadata": {},
   "source": [
    " Use Python to apply your model, determine the plot for the measured outlet temperature of\n",
    " the water from time equal to zero to 50s. Upload your .m file and the scan of the modeling\n",
    " equations you used."
   ]
  },
  {
   "cell_type": "markdown",
   "metadata": {},
   "source": [
    "#### Objective Of The System\n",
    "To determine the outcome of the process stream after 50s while "
   ]
  },
  {
   "cell_type": "markdown",
   "metadata": {},
   "source": [
    "Importing the packages needed in order to solve the problem. Numpy is the numerical library that gives matlab like functionality. Matplotlib is plotting library that gives nice functionality for 2 dimensional graphs."
   ]
  },
  {
   "cell_type": "markdown",
   "metadata": {},
   "source": [
    "| Parameters      | Steam In   | Process Stream In   | Steam Out     | Process Stream Out   |\n",
    "|----------------:|:----------:|:-------------------:|:-------------:|:--------------------:|\n",
    "|Flow Rate  (kg/s)| 25    | 25            | $\\dot{m}_{stm}$ * valve%|            |\n",
    "|Temperature  (˚C)| 25   ||||\n",
    "|Pressure    (kPa)| 50    ||||\n"
   ]
  },
  {
   "cell_type": "code",
   "execution_count": 1,
   "metadata": {},
   "outputs": [],
   "source": [
    "import numpy as np\n",
    "import matplotlib.pyplot as plt"
   ]
  },
  {
   "cell_type": "markdown",
   "metadata": {},
   "source": [
    "#### Declaring given values"
   ]
  },
  {
   "cell_type": "code",
   "execution_count": 7,
   "metadata": {},
   "outputs": [],
   "source": [
    "time = np.linspace(0, 50, 50) # Time of the system in seconds\n",
    "universal_heat_transfer_coefficient = 500 # W/m^2-K\n",
    "flow_rate = 25 # kg/s\n",
    "temperature = [25] # Temperature in celsius\n",
    "mass_copper = 200 # kg\n",
    "pressure_time_constant = 10 # seconds\n",
    "outlet_temperture_sensor = 6 # seconds\n",
    "heat_capicity = {\"copper\": 0.385,\n",
    "                 \"water\": 4.186}"
   ]
  },
  {
   "cell_type": "code",
   "execution_count": 3,
   "metadata": {},
   "outputs": [],
   "source": [
    "def steamtemp(steam_pressure):\n",
    "    steam_temperature = 1810.95 / (8.14018 - np.log10(steam_pressure)) - 244.485\n",
    "    return steam_temperature"
   ]
  },
  {
   "cell_type": "code",
   "execution_count": 4,
   "metadata": {},
   "outputs": [],
   "source": [
    "def heattransfer(universal_heat_coefficient, area, delta_temperature):\n",
    "    heat_transfer = universal_heat_coefficient * area * delta_temperature\n",
    "    return heat_transfer"
   ]
  },
  {
   "cell_type": "code",
   "execution_count": 1,
   "metadata": {},
   "outputs": [],
   "source": [
    "class HeatExchanger:\n",
    "    temp = None\n",
    "    heat_capacity = 0.385\n",
    "    Area = 100 # m^2"
   ]
  },
  {
   "cell_type": "code",
   "execution_count": null,
   "metadata": {},
   "outputs": [],
   "source": []
  }
 ],
 "metadata": {
  "kernelspec": {
   "display_name": "Python 3",
   "language": "python",
   "name": "python3"
  },
  "language_info": {
   "codemirror_mode": {
    "name": "ipython",
    "version": 3
   },
   "file_extension": ".py",
   "mimetype": "text/x-python",
   "name": "python",
   "nbconvert_exporter": "python",
   "pygments_lexer": "ipython3",
   "version": "3.7.6"
  }
 },
 "nbformat": 4,
 "nbformat_minor": 2
}
