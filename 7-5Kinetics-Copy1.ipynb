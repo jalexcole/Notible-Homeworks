{
 "cells": [
  {
   "cell_type": "markdown",
   "metadata": {},
   "source": [
    "# Chapter 7 Problem 5\n"
   ]
  },
  {
   "cell_type": "markdown",
   "metadata": {},
   "source": [
    "The liquid-phase irreversible reaction\n",
    "$$A \\rightarrow B + C$$\n",
    "is carried out in a CSTR. To learn the rate law, the volumetirc flow rate $v_0$, (hense $\\tau = V / v_0$) is varied and the effluent concentrations of species A are recordedd as a function of the space time $\\tau$. Pure A enters the reactor at a concentrationn of 2 $mol/dm^3$. Steady-state conditions exist when the measurements are recorded."
   ]
  },
  {
   "cell_type": "markdown",
   "metadata": {},
   "source": [
    "| run               | 1   | 2   | 3   | 4   |    5|\n",
    "|-------------------|-----|-----|-----|-----|-----|\n",
    "|$\\tau$ (min)       | 15  | 38  | 100 | 300 | 1200|\n",
    "|$C_A$ $(mol/dm^3)$ | 1.5 | 1.25| 1.0 | 0.75| 0.5 |"
   ]
  },
  {
   "cell_type": "markdown",
   "metadata": {},
   "source": [
    "1. Determine the reaction order and specific reaction-rate constant.\n",
    "2. If you were to repeat this experiment to determine the kinetics, what would you do differently?\n",
    "Would you run at a higher, lower, or the same temperature? If you were to take more data, where woul you place the measurements (e.g. $\\tau$)?\n",
    "3. It is believed that the technician may have made a dilution factor-of-10 error in one of the concentration measurements. What do you think? How do yours answers compare using regression with those obtained by graphical methods?;\n",
    "Note: All measurements were taken at steady-state conditions"
   ]
  },
  {
   "cell_type": "markdown",
   "metadata": {},
   "source": [
    "First order reaction $$ -r_a = k_a C_a^1 $$ "
   ]
  },
  {
   "cell_type": "code",
   "execution_count": 9,
   "metadata": {},
   "outputs": [],
   "source": [
    "import matplotlib.pyplot as plt\n",
    "import numpy as np"
   ]
  },
  {
   "cell_type": "code",
   "execution_count": 8,
   "metadata": {},
   "outputs": [
    {
     "data": {
      "image/png": "[encoded data removed]",
      "text/plain": [
       "<Figure size 432x288 with 1 Axes>"
      ]
     },
     "metadata": {},
     "output_type": "display_data"
    }
   ],
   "source": [
    "run = [1, 2, 3, 4, 5]\n",
    "tau = [15, 38, 100, 300, 1200]\n",
    "C_A = [1.5, 1.25, 1.0, 0.75, 0.5]\n",
    "\n",
    "plt.plot(tau, C_A)\n",
    "plt.xlabel(\"tau (min)\")\n",
    "plt.ylabel(\"C_A (mol/dm^3)\")\n",
    "plt.show()"
   ]
  },
  {
   "cell_type": "markdown",
   "metadata": {},
   "source": [
    "import scipy.opt"
   ]
  }
 ],
 "metadata": {
  "kernelspec": {
   "display_name": "Python 3",
   "language": "python",
   "name": "python3"
  },
  "language_info": {
   "codemirror_mode": {
    "name": "ipython",
    "version": 3
   },
   "file_extension": ".py",
   "mimetype": "text/x-python",
   "name": "python",
   "nbconvert_exporter": "python",
   "pygments_lexer": "ipython3",
   "version": "3.6.5"
  }
 },
 "nbformat": 4,
 "nbformat_minor": 2
}
